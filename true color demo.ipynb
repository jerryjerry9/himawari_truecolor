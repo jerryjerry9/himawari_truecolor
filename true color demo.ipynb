{
 "cells": [
  {
   "cell_type": "code",
   "execution_count": 1,
   "metadata": {},
   "outputs": [],
   "source": [
    "###data processing assoicated package\n",
    "import pickle\n",
    "import glob\n",
    "import numpy as np\n",
    "import cv2\n",
    "from pyspectral.rayleigh import Rayleigh\n",
    "#import netCDF4 as nc\n",
    "\n",
    "###drawing package\n",
    "import os\n",
    "os.environ['PROJ_LIB'] = 'C:\\\\Users\\\\jerry\\\\anaconda3\\\\Library\\\\share\\\\'\n",
    "import matplotlib.pyplot as plt\n",
    "from mpl_toolkits.basemap import Basemap"
   ]
  },
  {
   "cell_type": "markdown",
   "metadata": {},
   "source": [
    "### 0.5km resolution cover area:\n",
    "latitude: **-60~60**  \n",
    "longitude: **85 ~ 205**   \n",
    "array size: **24000*24000**"
   ]
  },
  {
   "cell_type": "code",
   "execution_count": 2,
   "metadata": {},
   "outputs": [],
   "source": [
    "#print('ext shape')\n",
    "y = np.arange(-59.9975,60.0025,0.005)\n",
    "x = np.arange(85.0025,205.0025,0.005)"
   ]
  },
  {
   "cell_type": "markdown",
   "metadata": {},
   "source": [
    "### Customized data cover area\n",
    "latitude: **10~40**   \n",
    "longitude: **115~140**   \n",
    "array size: **6000*5000**"
   ]
  },
  {
   "cell_type": "code",
   "execution_count": 3,
   "metadata": {},
   "outputs": [
    {
     "name": "stdout",
     "output_type": "stream",
     "text": [
      "lat 10.002500000035809 39.99750000005116\n",
      "lon 115.00249999997271 139.99749999994998\n"
     ]
    }
   ],
   "source": [
    "local_lat = y[14000:20000]\n",
    "local_lon = x[6000:11000]\n",
    "print('lat',local_lat[0],local_lat[-1])\n",
    "print('lon',local_lon[0],local_lon[-1])"
   ]
  },
  {
   "cell_type": "markdown",
   "metadata": {},
   "source": [
    "### Demo Taiwan area\n",
    "latitude: **18~30**   \n",
    "longitude: **118~128**  \n",
    "array size: **2000*2000**"
   ]
  },
  {
   "cell_type": "code",
   "execution_count": 4,
   "metadata": {},
   "outputs": [
    {
     "name": "stdout",
     "output_type": "stream",
     "text": [
      "lat 18.002500000039902 29.997500000046045\n",
      "lon 118.00249999996998 127.9974999999609\n"
     ]
    }
   ],
   "source": [
    "local_lat = y[15600:18000]\n",
    "local_lon = x[6600:8600]\n",
    "print('lat',local_lat[0],local_lat[-1])\n",
    "print('lon',local_lon[0],local_lon[-1])"
   ]
  },
  {
   "cell_type": "code",
   "execution_count": 5,
   "metadata": {},
   "outputs": [],
   "source": [
    "date = '202004070000'"
   ]
  },
  {
   "cell_type": "markdown",
   "metadata": {},
   "source": [
    "### Load data\n",
    "band 01~04   \n",
    "geo information   \n"
   ]
  },
  {
   "cell_type": "code",
   "execution_count": 6,
   "metadata": {},
   "outputs": [],
   "source": [
    "fileband=glob.glob('truecolor_data/'+date+'_band01.pkl')\n",
    "with open(fileband[0], 'rb') as f:\n",
    "    band01= pickle.load(f)\n",
    "fileband=glob.glob('truecolor_data/'+date+'_band02.pkl')\n",
    "with open(fileband[0], 'rb') as f:\n",
    "    band02= pickle.load(f)\n",
    "fileband=glob.glob('truecolor_data/'+date+'_band03.pkl')\n",
    "with open(fileband[0], 'rb') as f:\n",
    "    band03= pickle.load(f)\n",
    "fileband=glob.glob('truecolor_data/'+date+'_band04.pkl')\n",
    "with open(fileband[0], 'rb') as f:\n",
    "    band04= pickle.load(f)\n",
    "with open('truecolor_data/'+date+'_geo.pkl', 'rb') as f:\n",
    "    hi_geo=pickle.load(f)\n",
    "sun_az_map = hi_geo[0,:,:]\n",
    "sun_zh_map = hi_geo[1,:,:]\n",
    "sat_az_map = hi_geo[2,:,:]\n",
    "sat_zh_map = hi_geo[3,:,:]"
   ]
  },
  {
   "cell_type": "code",
   "execution_count": 7,
   "metadata": {},
   "outputs": [
    {
     "name": "stdout",
     "output_type": "stream",
     "text": [
      "(3000, 2500)\n",
      "(6000, 5000)\n"
     ]
    }
   ],
   "source": [
    "print(band02.shape)\n",
    "print(band03.shape)"
   ]
  },
  {
   "cell_type": "code",
   "execution_count": 8,
   "metadata": {},
   "outputs": [],
   "source": [
    "### resolution 1km\n",
    "local_band01 = band01[800:2000,300:1300]\n",
    "local_band02 = band02[800:2000,300:1300]\n",
    "local_band04 =  band04[800:2000,300:1300]\n",
    "### resolution 0.5km\n",
    "local_band03 = band03[1600:4000,600:2600]\n",
    "# geo info\n",
    "local_sun_az_map = sun_az_map[1600:4000,600:2600]\n",
    "local_sun_zh_map = sun_zh_map[1600:4000,600:2600]\n",
    "local_sat_az_map = sat_az_map[1600:4000,600:2600]\n",
    "local_sat_zh_map = sat_zh_map[1600:4000,600:2600]"
   ]
  },
  {
   "cell_type": "code",
   "execution_count": 9,
   "metadata": {},
   "outputs": [
    {
     "name": "stdout",
     "output_type": "stream",
     "text": [
      "Max albedo\n",
      "85.35294\n",
      "83.64706\n",
      "93.47059\n",
      "93.29412\n",
      "Min albedo\n",
      "6.294118\n",
      "4.352941\n",
      "1.588235\n",
      "0.176471\n"
     ]
    }
   ],
   "source": [
    "print('Max albedo')\n",
    "print(np.max(local_band01))\n",
    "print(np.max(local_band02))\n",
    "print(np.max(local_band03))\n",
    "print(np.max(local_band04))\n",
    "print('Min albedo')\n",
    "print(np.min(local_band01))\n",
    "print(np.min(local_band02))\n",
    "print(np.min(local_band03))\n",
    "print(np.min(local_band04))"
   ]
  },
  {
   "cell_type": "markdown",
   "metadata": {},
   "source": [
    "### Resolution sharpening"
   ]
  },
  {
   "cell_type": "code",
   "execution_count": 10,
   "metadata": {},
   "outputs": [
    {
     "name": "stdout",
     "output_type": "stream",
     "text": [
      "(1200, 1000)\n",
      "(2400, 2000)\n"
     ]
    }
   ],
   "source": [
    "print(local_band01.shape)\n",
    "print(local_band03.shape)"
   ]
  },
  {
   "cell_type": "code",
   "execution_count": 11,
   "metadata": {},
   "outputs": [],
   "source": [
    "## resolution sharping (band01, 02, 04)\n",
    "band011 = cv2.resize(local_band01, (2000, 2400), interpolation=cv2.INTER_LINEAR)\n",
    "band022 = cv2.resize(local_band02, (2000, 2400), interpolation=cv2.INTER_LINEAR)\n",
    "band033 = local_band03\n",
    "band044 = cv2.resize(local_band04, (2000, 2400), interpolation=cv2.INTER_LINEAR)"
   ]
  },
  {
   "cell_type": "markdown",
   "metadata": {},
   "source": [
    "### Solar Zenith Angle Modification "
   ]
  },
  {
   "cell_type": "code",
   "execution_count": 12,
   "metadata": {},
   "outputs": [],
   "source": [
    "local_rad = np.radians(local_sun_zh_map)\n",
    "local_adjust = np.cos(local_rad)\n",
    "# for Rayleigh correction\n",
    "local_az_diff = local_sun_az_map-local_sat_az_map"
   ]
  },
  {
   "cell_type": "code",
   "execution_count": 13,
   "metadata": {},
   "outputs": [],
   "source": [
    "band011 = band011/local_adjust\n",
    "band022 = band022/local_adjust\n",
    "band033 = band033/local_adjust\n",
    "band044 = band044/local_adjust"
   ]
  },
  {
   "cell_type": "code",
   "execution_count": 14,
   "metadata": {},
   "outputs": [
    {
     "name": "stdout",
     "output_type": "stream",
     "text": [
      "Max albedo\n",
      "145.62526129598248\n",
      "144.1392118054803\n",
      "172.77734733603882\n",
      "159.14572928032752\n",
      "Min albedo\n",
      "12.131713034585513\n",
      "7.895451657685456\n",
      "2.597277557673558\n",
      "0.41933360294694066\n"
     ]
    }
   ],
   "source": [
    "print('Max albedo')\n",
    "print(np.max(band011))\n",
    "print(np.max(band022))\n",
    "print(np.max(band033))\n",
    "print(np.max(band044))\n",
    "print('Min albedo')\n",
    "print(np.min(band011))\n",
    "print(np.min(band022))\n",
    "print(np.min(band033))\n",
    "print(np.min(band044))"
   ]
  },
  {
   "cell_type": "code",
   "execution_count": 15,
   "metadata": {},
   "outputs": [],
   "source": [
    "band011[band011>100]=100\n",
    "band022[band022>100]=100\n",
    "band033[band033>100]=100\n",
    "band044[band044>100]=100"
   ]
  },
  {
   "cell_type": "markdown",
   "metadata": {},
   "source": [
    "### Rayleigh scatter correction"
   ]
  },
  {
   "cell_type": "code",
   "execution_count": 16,
   "metadata": {},
   "outputs": [],
   "source": [
    "hima = Rayleigh('Himawari-8', 'ahi')"
   ]
  },
  {
   "cell_type": "code",
   "execution_count": 17,
   "metadata": {},
   "outputs": [],
   "source": [
    "refl_cor_band1 = hima.get_reflectance(local_sun_zh_map, local_sat_zh_map, local_az_diff, 'ch1',band033)\n",
    "refl_cor_band2 = hima.get_reflectance(local_sun_zh_map, local_sat_zh_map, local_az_diff, 'ch2',band033)\n",
    "refl_cor_band3 = hima.get_reflectance(local_sun_zh_map, local_sat_zh_map, local_az_diff, 'ch3',band033)"
   ]
  },
  {
   "cell_type": "code",
   "execution_count": 18,
   "metadata": {},
   "outputs": [],
   "source": [
    "cor_band011 = band011-refl_cor_band1\n",
    "cor_band022 = band022-refl_cor_band2\n",
    "cor_band033 = band033-refl_cor_band3"
   ]
  },
  {
   "cell_type": "code",
   "execution_count": 19,
   "metadata": {},
   "outputs": [
    {
     "name": "stdout",
     "output_type": "stream",
     "text": [
      "Max albedo\n",
      "100.0\n",
      "100.0\n",
      "100.0\n",
      "Min albedo\n",
      "-2.5707880897473263\n",
      "-2.0802731225943987\n",
      "-1.7673198134769166\n"
     ]
    }
   ],
   "source": [
    "print('Max albedo')\n",
    "print(np.max(cor_band011))\n",
    "print(np.max(cor_band022))\n",
    "print(np.max(cor_band033))\n",
    "print('Min albedo')\n",
    "print(np.min(cor_band011))\n",
    "print(np.min(cor_band022))\n",
    "print(np.min(cor_band033))"
   ]
  },
  {
   "cell_type": "markdown",
   "metadata": {},
   "source": [
    "### Color  correction: hybrid green"
   ]
  },
  {
   "cell_type": "code",
   "execution_count": 20,
   "metadata": {},
   "outputs": [],
   "source": [
    "cor_bandgreen=0.93*cor_band022+0.07*band044"
   ]
  },
  {
   "cell_type": "code",
   "execution_count": 21,
   "metadata": {},
   "outputs": [],
   "source": [
    "cor_bandgreen[cor_bandgreen<0]=0\n",
    "cor_band011[cor_band011<0]=0\n",
    "cor_band033[cor_band033<0]=0"
   ]
  },
  {
   "cell_type": "code",
   "execution_count": 22,
   "metadata": {
    "scrolled": true
   },
   "outputs": [
    {
     "name": "stdout",
     "output_type": "stream",
     "text": [
      "100.0\n",
      "100.0\n",
      "100.0\n",
      "0.0\n",
      "0.0\n",
      "0.0\n"
     ]
    }
   ],
   "source": [
    "print(np.max(cor_band011))\n",
    "print(np.max(cor_bandgreen))\n",
    "print(np.max(cor_band033))\n",
    "print(np.min(cor_band011))\n",
    "print(np.min(cor_bandgreen))\n",
    "print(np.min(cor_band033))"
   ]
  },
  {
   "cell_type": "markdown",
   "metadata": {},
   "source": [
    "### Image enhancement\n",
    "gamma 2.0 (^1/2)"
   ]
  },
  {
   "cell_type": "code",
   "execution_count": 23,
   "metadata": {},
   "outputs": [],
   "source": [
    "enh_band01 = (cor_band011/100)**(1/2)\n",
    "enh_band02 = (cor_bandgreen/100)**(1/2)\n",
    "enh_band03 = (cor_band033/100)**(1/2)"
   ]
  },
  {
   "cell_type": "markdown",
   "metadata": {},
   "source": [
    "### True color map drawing"
   ]
  },
  {
   "cell_type": "code",
   "execution_count": 24,
   "metadata": {},
   "outputs": [],
   "source": [
    "data = np.array([enh_band01,enh_band02,enh_band03])\n",
    "rgb_array=np.zeros((2400,2000,3))\n",
    "rgb_array[:,:,0]=data[2,:,:]\n",
    "rgb_array[:,:,1]=data[1,:,:]\n",
    "rgb_array[:,:,2]=data[0,:,:]\n",
    "mesh=rgb_array[:,:-1,:]\n",
    "color_t=mesh.reshape((mesh.shape[0] * mesh.shape[1]),3)"
   ]
  },
  {
   "cell_type": "code",
   "execution_count": null,
   "metadata": {
    "scrolled": false
   },
   "outputs": [],
   "source": [
    "fig = plt.figure(figsize=(9,11)) \n",
    "m = Basemap(llcrnrlon=118, urcrnrlon=128, llcrnrlat=18, urcrnrlat=30,resolution='i')\n",
    "m.drawcoastlines(linewidth=1.2,color='yellow',zorder=2)\n",
    "m.drawparallels(np.arange(20., 41., 5.), labels=[1, 0, 0, 0], linewidth=0, color='k', fontsize=18)\n",
    "m.drawmeridians(np.arange(120., 139., 5.), labels=[0, 0, 0, 1], linewidth=0, color='k', fontsize=18)\n",
    "m.pcolormesh(local_lon,local_lat,rgb_array[:,:,2],color=color_t,zorder=1)\n",
    "plt.tight_layout()\n",
    "plt.title('20200407 local time 0800',fontsize=22)\n",
    "plt.savefig('20200407_lt08_test.png',dpi=600)"
   ]
  },
  {
   "cell_type": "code",
   "execution_count": null,
   "metadata": {},
   "outputs": [],
   "source": []
  }
 ],
 "metadata": {
  "kernelspec": {
   "display_name": "Python 3",
   "language": "python",
   "name": "python3"
  },
  "language_info": {
   "codemirror_mode": {
    "name": "ipython",
    "version": 3
   },
   "file_extension": ".py",
   "mimetype": "text/x-python",
   "name": "python",
   "nbconvert_exporter": "python",
   "pygments_lexer": "ipython3",
   "version": "3.8.3"
  }
 },
 "nbformat": 4,
 "nbformat_minor": 4
}
